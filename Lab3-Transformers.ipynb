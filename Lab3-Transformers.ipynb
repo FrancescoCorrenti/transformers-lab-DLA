{
 "cells": [
  {
   "cell_type": "markdown",
   "id": "08e91cdb-4693-4632-b7aa-f37eec027131",
   "metadata": {},
   "source": [
    "## Working with Transformers in the HuggingFace Ecosystem\n",
    "\n",
    "In this laboratory exercise we will learn how to work with the HuggingFace ecosystem to adapt models to new tasks. As you will see, much of what is required is *investigation* into the inner-workings of the HuggingFace abstractions. With a little work, a little trial-and-error, it is fairly easy to get a working adaptation pipeline up and running."
   ]
  },
  {
   "cell_type": "markdown",
   "id": "7e556105-269f-43e3-8933-227269afb9ea",
   "metadata": {},
   "source": [
    "### Exercise 1: Sentiment Analysis (warm up)\n",
    "\n",
    "In this first exercise we will start from a pre-trained BERT transformer and build up a model able to perform text sentiment analysis. Transformers are complex beasts, so we will build up our pipeline in several explorative and incremental steps.\n",
    "\n",
    "#### Exercise 1.1: Dataset Splits and Pre-trained model\n",
    "There are a many sentiment analysis datasets, but we will use one of the smallest ones available: the [Cornell Rotten Tomatoes movie review dataset](cornell-movie-review-data/rotten_tomatoes), which consists of 5,331 positive and 5,331 negative processed sentences from the Rotten Tomatoes movie reviews.\n",
    "\n",
    "**Your first task**: Load the dataset and figure out what splits are available and how to get them. Spend some time exploring the dataset to see how it is organized. Note that we will be using the [HuggingFace Datasets](https://huggingface.co/docs/datasets/en/index) library for downloading, accessing, splitting, and batching data for training and evaluation."
   ]
  },
  {
   "cell_type": "code",
   "execution_count": null,
   "id": "15819af4-e850-412b-ab67-61b9b98e3a90",
   "metadata": {},
   "outputs": [],
   "source": [
    "from datasets import load_dataset\n",
    "dataset = load_dataset(\"rotten_tomatoes\")\n",
    "split_names = list(dataset.keys())"
   ]
  },
  {
   "cell_type": "code",
   "execution_count": 2,
   "id": "5424363c",
   "metadata": {},
   "outputs": [
    {
     "name": "stdout",
     "output_type": "stream",
     "text": [
      "\u001b[1mSplit name : train\u001b[0m\n",
      "Dataset({\n",
      "    features: ['text', 'label'],\n",
      "    num_rows: 8530\n",
      "})\u001b[0m\n",
      "\u001b[1m\u001b[32mNumber of positive reviews: 4265\u001b[0m\n",
      "\u001b[1m\u001b[31mNumber of negative reviews: 4265\u001b[0m\n",
      "\n",
      "\u001b[1mSplit name : validation\u001b[0m\n",
      "Dataset({\n",
      "    features: ['text', 'label'],\n",
      "    num_rows: 1066\n",
      "})\u001b[0m\n",
      "\u001b[1m\u001b[32mNumber of positive reviews: 533\u001b[0m\n",
      "\u001b[1m\u001b[31mNumber of negative reviews: 533\u001b[0m\n",
      "\n",
      "\u001b[1mSplit name : test\u001b[0m\n",
      "Dataset({\n",
      "    features: ['text', 'label'],\n",
      "    num_rows: 1066\n",
      "})\u001b[0m\n",
      "\u001b[1m\u001b[32mNumber of positive reviews: 533\u001b[0m\n",
      "\u001b[1m\u001b[31mNumber of negative reviews: 533\u001b[0m\n",
      "\n"
     ]
    }
   ],
   "source": [
    "import numpy as np\n",
    "from termcolor import cprint\n",
    "split_names = list(dataset.keys())\n",
    "for split_name in split_names:\n",
    "    cprint(f\"Split name : {split_name}\", attrs=['bold'])\n",
    "    cprint(dataset[split_name])\n",
    "    pos_revs = np.array(dataset[split_name]['label']) == 1\n",
    "    neg_revs = ~pos_revs\n",
    "    cprint(f\"Number of positive reviews: {pos_revs.sum()}\", attrs=['bold'], color='green')\n",
    "    cprint(f\"Number of negative reviews: {neg_revs.sum()}\", attrs=['bold'], color='red')\n",
    "    print()\n",
    "\n",
    "trainset, valset, testset = (dataset[split_name] for split_name in split_names)\n"
   ]
  },
  {
   "cell_type": "markdown",
   "id": "a27f50a0-0af4-4bdd-9a60-bab26f126c14",
   "metadata": {},
   "source": [
    "#### Exercise 1.2: A Pre-trained BERT and Tokenizer\n",
    "\n",
    "The model we will use is a *very* small BERT transformer called [Distilbert](https://huggingface.co/distilbert/distilbert-base-uncased) this model was trained (using self-supervised learning) on the same corpus as BERT but using the full BERT base model as a *teacher*.\n",
    "\n",
    "**Your next task**: Load the Distilbert model and corresponding tokenizer. Use the tokenizer on a few samples from the dataset and pass the tokens through the model to see what outputs are provided. I suggest you use the [`AutoModel`](https://huggingface.co/transformers/v3.0.2/model_doc/auto.html) class (and the `from_pretrained()` method) to load the model and `AutoTokenizer` to load the tokenizer)."
   ]
  },
  {
   "cell_type": "code",
   "execution_count": null,
   "id": "3eefc651-8551-44c2-8340-37d64660fc58",
   "metadata": {},
   "outputs": [
    {
     "name": "stdout",
     "output_type": "stream",
     "text": [
      "\u001b[1mSample texts:\u001b[0m\n",
      "\u001b[1m\u001b[32m- a certain sexiness underlines even the dullest tangents .\u001b[0m\n",
      "\u001b[1m\u001b[32m- an enthralling , playful film that constantly frustrates our desire to know the 'truth' about this man , while deconstructing the very format of the biography in a manner that derrida would doubtless give his blessing to .\u001b[0m\n",
      "\u001b[1m\u001b[31m- one-sided documentary offers simplistic explanations to a very complex situation . . . . stylistically , the movie is a disaster .\u001b[0m\n",
      "\u001b[1m\u001b[32m- a savage john waters-like humor that dances on the edge of tastelessness without ever quite falling over .\u001b[0m\n",
      "\u001b[1m\u001b[32m- in all fairness , i must report that the children of varying ages in my audience never coughed , fidgeted or romped up and down the aisles for bathroom breaks .\u001b[0m\n",
      "\u001b[1m------------------------------\u001b[0m\n",
      "torch.Size([5, 53])\n",
      "torch.Size([5, 53])\n",
      "torch.Size([5, 53, 768])\n",
      "torch.Size([5, 53, 768])\n"
     ]
    }
   ],
   "source": [
    "from transformers import AutoTokenizer, AutoModel\n",
    "\n",
    "tokenizer = AutoTokenizer.from_pretrained(\"distilbert-base-uncased\")                                        \n",
    "model = AutoModel.from_pretrained(\"distilbert-base-uncased\")\n",
    "\n",
    "# Get a few sample texts from the training dataset\n",
    "samples = np.random.choice(trainset, size=5, replace=False)\n",
    "texts = [sample['text'] for sample in samples]\n",
    "labels = [sample['label'] for sample in samples]\n",
    "cprint(\"Sample texts:\", attrs=['bold'])\n",
    "for text, label in zip(texts, labels):\n",
    "    color = 'green' if label == 1 else 'red'\n",
    "    cprint(f\"- {text}\", attrs=['bold'], color=color)\n",
    "\n",
    "cprint(\"-\" * 30, attrs=['bold'])\n",
    "\n",
    "tokenized_inputs = tokenizer(texts,truncation=True,padding=True,return_tensors='pt')\n",
    "\n",
    "print(tokenized_inputs['input_ids'].shape)\n",
    "print(tokenized_inputs['attention_mask'].shape)\n",
    "\n",
    "outputs = model(**tokenized_inputs)\n",
    "\n",
    "print(outputs.last_hidden_state.shape)"
   ]
  },
  {
   "cell_type": "markdown",
   "id": "ec0f6fd4-b80b-466d-b4ff-9aac0492c062",
   "metadata": {},
   "source": [
    "#### Exercise 1.3: A Stable Baseline\n",
    "\n",
    "In this exercise I want you to:\n",
    "1. Use Distilbert as a *feature extractor* to extract representations of the text strings from the dataset splits;\n",
    "2. Train a classifier (your choice, by an SVM from Scikit-learn is an easy choice).\n",
    "3. Evaluate performance on the validation and test splits.\n",
    "\n",
    "These results are our *stable baseline* -- the **starting** point on which we will (hopefully) improve in the next exercise.\n",
    "\n",
    "**Hint**: There are a number of ways to implement the feature extractor, but probably the best is to use a [feature extraction `pipeline`](https://huggingface.co/tasks/feature-extraction). You will need to interpret the output of the pipeline and extract only the `[CLS]` token from the *last* transformer layer. *How can you figure out which output that is?*"
   ]
  },
  {
   "cell_type": "code",
   "execution_count": 4,
   "id": "ebb961ab-aa24-4d5c-86a1-c9b4237b40fc",
   "metadata": {},
   "outputs": [
    {
     "name": "stdout",
     "output_type": "stream",
     "text": [
      "Token :  [CLS] at position :  0\n",
      "Token :  [CLS] at position :  0\n",
      "Token :  [CLS] at position :  0\n",
      "Token :  [CLS] at position :  0\n",
      "Token :  [CLS] at position :  0\n"
     ]
    }
   ],
   "source": [
    "from transformers import pipeline\n",
    "from sklearn.svm import SVC\n",
    "from sklearn.metrics import accuracy_score\n",
    "import numpy as np\n",
    "import torch\n",
    "\n",
    "# how to figure out which token is the [CLS] token\n",
    "for i in range(len(tokenized_inputs[\"input_ids\"])):\n",
    "    id_to_token = tokenizer.convert_ids_to_tokens(tokenized_inputs[\"input_ids\"][i])\n",
    "    arg_to_token = np.argmax(id_to_token == \"[CLS]\")\n",
    "    print(\"Token : \",id_to_token[arg_to_token], \"at position : \", arg_to_token)\n",
    "# it's at position 0 in the sequence dimension\n",
    "\n"
   ]
  },
  {
   "cell_type": "code",
   "execution_count": 5,
   "id": "ae69b6d2",
   "metadata": {},
   "outputs": [
    {
     "name": "stdout",
     "output_type": "stream",
     "text": [
      "Saved features to val_features.pth\n",
      "Saved features to train_features.pth\n",
      "Saved features to train_features.pth\n",
      "Saved features to test_features.pth\n",
      "Saved features to test_features.pth\n"
     ]
    }
   ],
   "source": [
    "device = 0 if torch.cuda.is_available() else -1\n",
    "model.to(device)\n",
    "\n",
    "\n",
    "def extract_features_batched(dataset, tokenizer, model, device, batch_size,output_path):\n",
    "    features_list = []\n",
    "    for i in range(0, len(dataset[\"text\"]), batch_size):\n",
    "        batch_texts = dataset[\"text\"][i : i + batch_size]\n",
    "        tokenized_inputs = tokenizer(batch_texts, padding=True, truncation=True, return_tensors=\"pt\")\n",
    "        tokenized_inputs = {k: v.to(device) for k, v in tokenized_inputs.items()}\n",
    "        with torch.no_grad():\n",
    "            outputs = model(**tokenized_inputs)\n",
    "        class_token = outputs.last_hidden_state[:,0,:]\n",
    "        features_list.append(class_token.cpu()) \n",
    "    \n",
    "    all_features = torch.cat(features_list, dim=0)\n",
    "    \n",
    "    try:\n",
    "        torch.save(all_features, output_path)\n",
    "        print(f\"Saved features to {output_path}\")\n",
    "    except Exception as e:\n",
    "        print(f\"Error saving features to {output_path}: {e}\")\n",
    "\n",
    "    return all_features\n",
    "\n",
    "\n",
    "val_path = \"val_features.pth\"\n",
    "val_features = extract_features_batched(valset, tokenizer, model, device, batch_size=64,output_path=val_path)\n",
    "train_path = \"train_features.pth\"\n",
    "train_features = extract_features_batched(trainset, tokenizer, model, device, batch_size=64,output_path=train_path)\n",
    "test_path = \"test_features.pth\"\n",
    "test_features = extract_features_batched(testset, tokenizer, model, device, batch_size=64,output_path=test_path)       \n",
    "\n"
   ]
  },
  {
   "cell_type": "code",
   "execution_count": null,
   "id": "f69edf3c",
   "metadata": {},
   "outputs": [],
   "source": [
    "from sklearn.svm import SVC\n",
    "from sklearn.metrics import accuracy_score\n",
    "from sklearn.model_selection import GridSearchCV\n",
    "\n",
    "def train_and_evaluate_svm(train_features, train_labels, val_features, val_labels):\n",
    "    \n",
    "    param_grid = {\n",
    "        'C': [0.1, 1, 10, 100],\n",
    "        'kernel': ['linear', 'rbf'],\n",
    "        'gamma': ['scale', 'auto', 0.1, 0.01]\n",
    "    }\n",
    "    \n",
    "    grid_search = GridSearchCV(\n",
    "        SVC(),\n",
    "        param_grid,\n",
    "        cv=5,\n",
    "        scoring='accuracy',\n",
    "        verbose=1,\n",
    "        n_jobs=-1\n",
    "    )\n",
    "    \n",
    "    grid_search.fit(train_features, train_labels)\n",
    "    \n",
    "    svm = grid_search.best_estimator_\n",
    "    \n",
    "    cprint(f\"Best parameters: {grid_search.best_params_}\", attrs=['bold'], color='green')\n",
    "    \n",
    "    val_predictions = svm.predict(val_features)\n",
    "    accuracy = accuracy_score(val_labels, val_predictions)\n",
    "    \n",
    "    cprint(f\"Validation Accuracy: {accuracy:.4f}\", attrs=['bold'], color='blue')\n",
    "    \n",
    "    return svm\n",
    "\n",
    "train_features = torch.load(train_path)\n",
    "train_labels = np.array(trainset['label'])\n",
    "val_features = torch.load(val_path)\n",
    "val_labels = np.array(valset['label'])\n",
    "\n",
    "svm_model = train_and_evaluate_svm(train_features, train_labels, val_features, val_labels)\n"
   ]
  },
  {
   "cell_type": "code",
   "execution_count": null,
   "id": "1819e932",
   "metadata": {},
   "outputs": [
    {
     "name": "stderr",
     "output_type": "stream",
     "text": [
      "wandb: WARNING If you're specifying your api key in code, ensure this code is not shared publicly.\n",
      "wandb: WARNING Consider setting the WANDB_API_KEY environment variable, or running `wandb login` from the command line.\n",
      "wandb: Appending key for api.wandb.ai to your netrc file: C:\\Users\\Admin\\_netrc\n",
      "wandb: Appending key for api.wandb.ai to your netrc file: C:\\Users\\Admin\\_netrc\n",
      "wandb: Currently logged in as: francesco-correnti (francesco-correnti-unifi) to https://api.wandb.ai. Use `wandb login --relogin` to force relogin\n",
      "wandb: Currently logged in as: francesco-correnti (francesco-correnti-unifi) to https://api.wandb.ai. Use `wandb login --relogin` to force relogin\n"
     ]
    },
    {
     "data": {
      "text/plain": [
       "True"
      ]
     },
     "execution_count": 7,
     "metadata": {},
     "output_type": "execute_result"
    }
   ],
   "source": [
    "# # Logging to wandb  \n",
    "# import wandb\n",
    "# wandb.login(key=\"##############################\")  \n",
    "# wandb.init(project=\"lab-3\", name=\"svm-rotten-tomatoes\")\n",
    "\n",
    "# wandb.log({\n",
    "#     \"best_params\": svm_model.get_params(),\n",
    "#     \"validation_accuracy\": accuracy_score(val_labels, svm_model.predict(val_features))\n",
    "# })\n",
    "# wandb.finish()"
   ]
  },
  {
   "cell_type": "markdown",
   "id": "37141d1b-935b-425c-804c-b9b487853791",
   "metadata": {},
   "source": [
    "-----\n",
    "### Exercise 2: Fine-tuning Distilbert"
   ]
  },
  {
   "cell_type": "markdown",
   "id": "b9a53f64-0238-42f2-bc20-86e51c77d2e5",
   "metadata": {},
   "source": [
    "In this exercise we will fine-tune the Distilbert model to (hopefully) improve sentiment analysis performance."
   ]
  },
  {
   "cell_type": "markdown",
   "id": "3392b1ed-597b-4a92-90fc-10eb11eac515",
   "metadata": {},
   "source": [
    "#### Exercise 2.1: Token Preprocessing\n",
    "\n",
    "The first thing we need to do is *tokenize* our dataset splits. Our current datasets return a dictionary with *strings*, but we want *input token ids* (i.e. the output of the tokenizer). This is easy enough to do my hand, but the HugginFace `Dataset` class provides convenient, efficient, and *lazy* methods. See the documentation for [`Dataset.map`](https://huggingface.co/docs/datasets/v3.5.0/en/package_reference/main_classes#datasets.Dataset.map).\n",
    "\n",
    "**Tip**: Verify that your new datasets are returning for every element: `text`, `label`, `intput_ids`, and `attention_mask`."
   ]
  },
  {
   "cell_type": "code",
   "execution_count": 8,
   "id": "9e6e2a95-5b08-4f81-b824-59a0fb3404e5",
   "metadata": {},
   "outputs": [
    {
     "data": {
      "application/vnd.jupyter.widget-view+json": {
       "model_id": "fc2a93b65b7f45429e5c00d6c7e220d7",
       "version_major": 2,
       "version_minor": 0
      },
      "text/plain": [
       "Map:   0%|          | 0/8530 [00:00<?, ? examples/s]"
      ]
     },
     "metadata": {},
     "output_type": "display_data"
    },
    {
     "name": "stdout",
     "output_type": "stream",
     "text": [
      "{'text': Value(dtype='string', id=None), 'label': ClassLabel(names=['neg', 'pos'], id=None), 'input_ids': Sequence(feature=Value(dtype='int32', id=None), length=-1, id=None), 'attention_mask': Sequence(feature=Value(dtype='int8', id=None), length=-1, id=None)}\n",
      "First example features: ['text', 'label', 'input_ids', 'attention_mask']\n",
      "\n",
      "First example features: ['text', 'label', 'input_ids', 'attention_mask']\n"
     ]
    }
   ],
   "source": [
    "\n",
    "def tokenize_function(examples):\n",
    "    return tokenizer(examples[\"text\"], padding=\"max_length\")\n",
    "\n",
    "tokenized_train = trainset.map(tokenize_function, batched=True)\n",
    "tokenized_val = valset.map(tokenize_function, batched=True)\n",
    "tokenized_test = testset.map(tokenize_function, batched=True)\n",
    "\n",
    "print(tokenized_train.features)\n",
    "print(f\"First example features: {list(tokenized_train[0].keys())}\")"
   ]
  },
  {
   "cell_type": "markdown",
   "id": "62a80de2-83c9-4c12-af4e-34babe23ffd1",
   "metadata": {},
   "source": [
    "#### Exercise 2.2: Setting up the Model to be Fine-tuned\n",
    "\n",
    "In this exercise we need to prepare the base Distilbert model for fine-tuning for a *sequence classification task*. This means, at the very least, appending a new, randomly-initialized classification head connected to the `[CLS]` token of the last transformer layer. Luckily, HuggingFace already provides an `AutoModel` for just this type of instantiation: [`AutoModelForSequenceClassification`](https://huggingface.co/transformers/v3.0.2/model_doc/auto.html#automodelforsequenceclassification). You will want you instantiate one of these for fine-tuning."
   ]
  },
  {
   "cell_type": "code",
   "execution_count": 9,
   "id": "a6327d73-3b71-478a-9932-bb062a650c57",
   "metadata": {},
   "outputs": [
    {
     "name": "stderr",
     "output_type": "stream",
     "text": [
      "Some weights of DistilBertForSequenceClassification were not initialized from the model checkpoint at distilbert-base-uncased and are newly initialized: ['classifier.bias', 'classifier.weight', 'pre_classifier.bias', 'pre_classifier.weight']\n",
      "You should probably TRAIN this model on a down-stream task to be able to use it for predictions and inference.\n"
     ]
    },
    {
     "name": "stdout",
     "output_type": "stream",
     "text": [
      "DistilBertForSequenceClassification(\n",
      "  (distilbert): DistilBertModel(\n",
      "    (embeddings): Embeddings(\n",
      "      (word_embeddings): Embedding(30522, 768, padding_idx=0)\n",
      "      (position_embeddings): Embedding(512, 768)\n",
      "      (LayerNorm): LayerNorm((768,), eps=1e-12, elementwise_affine=True)\n",
      "      (dropout): Dropout(p=0.1, inplace=False)\n",
      "    )\n",
      "    (transformer): Transformer(\n",
      "      (layer): ModuleList(\n",
      "        (0-5): 6 x TransformerBlock(\n",
      "          (attention): DistilBertSdpaAttention(\n",
      "            (dropout): Dropout(p=0.1, inplace=False)\n",
      "            (q_lin): Linear(in_features=768, out_features=768, bias=True)\n",
      "            (k_lin): Linear(in_features=768, out_features=768, bias=True)\n",
      "            (v_lin): Linear(in_features=768, out_features=768, bias=True)\n",
      "            (out_lin): Linear(in_features=768, out_features=768, bias=True)\n",
      "          )\n",
      "          (sa_layer_norm): LayerNorm((768,), eps=1e-12, elementwise_affine=True)\n",
      "          (ffn): FFN(\n",
      "            (dropout): Dropout(p=0.1, inplace=False)\n",
      "            (lin1): Linear(in_features=768, out_features=3072, bias=True)\n",
      "            (lin2): Linear(in_features=3072, out_features=768, bias=True)\n",
      "            (activation): GELUActivation()\n",
      "          )\n",
      "          (output_layer_norm): LayerNorm((768,), eps=1e-12, elementwise_affine=True)\n",
      "        )\n",
      "      )\n",
      "    )\n",
      "  )\n",
      "  (pre_classifier): Linear(in_features=768, out_features=768, bias=True)\n",
      "  (classifier): Linear(in_features=768, out_features=2, bias=True)\n",
      "  (dropout): Dropout(p=0.2, inplace=False)\n",
      ")\n",
      "\n"
     ]
    }
   ],
   "source": [
    "from transformers import AutoModelForSequenceClassification\n",
    "\n",
    "model_clsfy = AutoModelForSequenceClassification.from_pretrained(\n",
    "    \"distilbert-base-uncased\", \n",
    "    num_labels=2\n",
    ")\n",
    "\n",
    "model_clsfy.to(device)\n",
    "\n",
    "print(model_clsfy)"
   ]
  },
  {
   "cell_type": "markdown",
   "id": "d109f7bd-955f-4fc4-bc3e-75bd99a17adf",
   "metadata": {},
   "source": [
    "#### Exercise 2.3: Fine-tuning Distilbert\n",
    "\n",
    "Finally. In this exercise you should use a HuggingFace [`Trainer`](https://huggingface.co/docs/transformers/main/en/trainer) to fine-tune your model on the Rotten Tomatoes training split. Setting up the trainer will involve (at least):\n",
    "\n",
    "\n",
    "1. Instantiating a [`DataCollatorWithPadding`](https://huggingface.co/docs/transformers/en/main_classes/data_collator) object which is what *actually* does your batch construction (by padding all sequences to the same length).\n",
    "2. Writing an *evaluation function* that will measure the classification accuracy. This function takes a single argument which is a tuple containing `(logits, labels)` which you should use to compute classification accuracy (and maybe other metrics like F1 score, precision, recall) and return a `dict` with these metrics.  \n",
    "3. Instantiating a [`TrainingArguments`](https://huggingface.co/docs/transformers/v4.51.1/en/main_classes/trainer#transformers.TrainingArguments) object using some reasonable defaults.\n",
    "4. Instantiating a `Trainer` object using your train and validation splits, you data collator, and function to compute performance metrics.\n",
    "5. Calling `trainer.train()`, waiting, waiting some more, and then calling `trainer.evaluate()` to see how it did.\n",
    "\n",
    "**Tip**: When prototyping this laboratory I discovered the HuggingFace [Evaluate library](https://huggingface.co/docs/evaluate/en/index) which provides evaluation metrics. However I found it to have insufferable layers of abstraction and getting actual metrics computed. I suggest just using the Scikit-learn metrics..."
   ]
  },
  {
   "cell_type": "code",
   "execution_count": null,
   "id": "ab17178d-5028-47e3-af97-953e8de5aae4",
   "metadata": {},
   "outputs": [
    {
     "data": {
      "text/html": [
       "Tracking run with wandb version 0.19.11"
      ],
      "text/plain": [
       "<IPython.core.display.HTML object>"
      ]
     },
     "metadata": {},
     "output_type": "display_data"
    },
    {
     "data": {
      "text/html": [
       "Run data is saved locally in <code>c:\\Users\\Admin\\Desktop\\Bagdanov Deep Learning\\lab3\\wandb\\run-20250528_095339-no8sfgej</code>"
      ],
      "text/plain": [
       "<IPython.core.display.HTML object>"
      ]
     },
     "metadata": {},
     "output_type": "display_data"
    },
    {
     "data": {
      "text/html": [
       "Syncing run <strong><a href='https://wandb.ai/francesco-correnti-unifi/lab-3/runs/no8sfgej' target=\"_blank\">distbert-clsfy-f28489f3</a></strong> to <a href='https://wandb.ai/francesco-correnti-unifi/lab-3' target=\"_blank\">Weights & Biases</a> (<a href='https://wandb.me/developer-guide' target=\"_blank\">docs</a>)<br>"
      ],
      "text/plain": [
       "<IPython.core.display.HTML object>"
      ]
     },
     "metadata": {},
     "output_type": "display_data"
    },
    {
     "data": {
      "text/html": [
       " View project at <a href='https://wandb.ai/francesco-correnti-unifi/lab-3' target=\"_blank\">https://wandb.ai/francesco-correnti-unifi/lab-3</a>"
      ],
      "text/plain": [
       "<IPython.core.display.HTML object>"
      ]
     },
     "metadata": {},
     "output_type": "display_data"
    },
    {
     "data": {
      "text/html": [
       " View run at <a href='https://wandb.ai/francesco-correnti-unifi/lab-3/runs/no8sfgej' target=\"_blank\">https://wandb.ai/francesco-correnti-unifi/lab-3/runs/no8sfgej</a>"
      ],
      "text/plain": [
       "<IPython.core.display.HTML object>"
      ]
     },
     "metadata": {},
     "output_type": "display_data"
    },
    {
     "name": "stderr",
     "output_type": "stream",
     "text": [
      "wandb: WARNING The `run_name` is currently set to the same value as `TrainingArguments.output_dir`. If this was not intended, please specify a different run name by setting the `TrainingArguments.run_name` parameter.\n"
     ]
    },
    {
     "data": {
      "text/html": [
       "\n",
       "    <div>\n",
       "      \n",
       "      <progress value='1068' max='1068' style='width:300px; height:20px; vertical-align: middle;'></progress>\n",
       "      [1068/1068 11:44, Epoch 2/2]\n",
       "    </div>\n",
       "    <table border=\"1\" class=\"dataframe\">\n",
       "  <thead>\n",
       " <tr style=\"text-align: left;\">\n",
       "      <th>Step</th>\n",
       "      <th>Training Loss</th>\n",
       "      <th>Validation Loss</th>\n",
       "      <th>Accuracy</th>\n",
       "      <th>F1</th>\n",
       "      <th>Precision</th>\n",
       "      <th>Recall</th>\n",
       "    </tr>\n",
       "  </thead>\n",
       "  <tbody>\n",
       "    <tr>\n",
       "      <td>50</td>\n",
       "      <td>0.690800</td>\n",
       "      <td>0.679809</td>\n",
       "      <td>0.564728</td>\n",
       "      <td>0.465130</td>\n",
       "      <td>0.753673</td>\n",
       "      <td>0.564728</td>\n",
       "    </tr>\n",
       "    <tr>\n",
       "      <td>100</td>\n",
       "      <td>0.610300</td>\n",
       "      <td>0.498544</td>\n",
       "      <td>0.770169</td>\n",
       "      <td>0.764527</td>\n",
       "      <td>0.798804</td>\n",
       "      <td>0.770169</td>\n",
       "    </tr>\n",
       "    <tr>\n",
       "      <td>150</td>\n",
       "      <td>0.443300</td>\n",
       "      <td>0.457953</td>\n",
       "      <td>0.796435</td>\n",
       "      <td>0.796426</td>\n",
       "      <td>0.796486</td>\n",
       "      <td>0.796435</td>\n",
       "    </tr>\n",
       "    <tr>\n",
       "      <td>200</td>\n",
       "      <td>0.408800</td>\n",
       "      <td>0.423343</td>\n",
       "      <td>0.808630</td>\n",
       "      <td>0.807894</td>\n",
       "      <td>0.813436</td>\n",
       "      <td>0.808630</td>\n",
       "    </tr>\n",
       "    <tr>\n",
       "      <td>250</td>\n",
       "      <td>0.399200</td>\n",
       "      <td>0.392586</td>\n",
       "      <td>0.825516</td>\n",
       "      <td>0.824716</td>\n",
       "      <td>0.831566</td>\n",
       "      <td>0.825516</td>\n",
       "    </tr>\n",
       "    <tr>\n",
       "      <td>300</td>\n",
       "      <td>0.423000</td>\n",
       "      <td>0.367932</td>\n",
       "      <td>0.836773</td>\n",
       "      <td>0.836771</td>\n",
       "      <td>0.836792</td>\n",
       "      <td>0.836773</td>\n",
       "    </tr>\n",
       "    <tr>\n",
       "      <td>350</td>\n",
       "      <td>0.376100</td>\n",
       "      <td>0.365124</td>\n",
       "      <td>0.843340</td>\n",
       "      <td>0.843290</td>\n",
       "      <td>0.843776</td>\n",
       "      <td>0.843340</td>\n",
       "    </tr>\n",
       "    <tr>\n",
       "      <td>400</td>\n",
       "      <td>0.392800</td>\n",
       "      <td>0.345046</td>\n",
       "      <td>0.848968</td>\n",
       "      <td>0.848871</td>\n",
       "      <td>0.849866</td>\n",
       "      <td>0.848968</td>\n",
       "    </tr>\n",
       "    <tr>\n",
       "      <td>450</td>\n",
       "      <td>0.351800</td>\n",
       "      <td>0.346111</td>\n",
       "      <td>0.851782</td>\n",
       "      <td>0.851778</td>\n",
       "      <td>0.851827</td>\n",
       "      <td>0.851782</td>\n",
       "    </tr>\n",
       "    <tr>\n",
       "      <td>500</td>\n",
       "      <td>0.365800</td>\n",
       "      <td>0.356504</td>\n",
       "      <td>0.849906</td>\n",
       "      <td>0.849803</td>\n",
       "      <td>0.850874</td>\n",
       "      <td>0.849906</td>\n",
       "    </tr>\n",
       "    <tr>\n",
       "      <td>550</td>\n",
       "      <td>0.356400</td>\n",
       "      <td>0.347993</td>\n",
       "      <td>0.847092</td>\n",
       "      <td>0.846653</td>\n",
       "      <td>0.851107</td>\n",
       "      <td>0.847092</td>\n",
       "    </tr>\n",
       "    <tr>\n",
       "      <td>600</td>\n",
       "      <td>0.238300</td>\n",
       "      <td>0.381730</td>\n",
       "      <td>0.856473</td>\n",
       "      <td>0.856351</td>\n",
       "      <td>0.857683</td>\n",
       "      <td>0.856473</td>\n",
       "    </tr>\n",
       "    <tr>\n",
       "      <td>650</td>\n",
       "      <td>0.214200</td>\n",
       "      <td>0.386554</td>\n",
       "      <td>0.848968</td>\n",
       "      <td>0.848786</td>\n",
       "      <td>0.850658</td>\n",
       "      <td>0.848968</td>\n",
       "    </tr>\n",
       "    <tr>\n",
       "      <td>700</td>\n",
       "      <td>0.235100</td>\n",
       "      <td>0.386302</td>\n",
       "      <td>0.850844</td>\n",
       "      <td>0.850446</td>\n",
       "      <td>0.854620</td>\n",
       "      <td>0.850844</td>\n",
       "    </tr>\n",
       "    <tr>\n",
       "      <td>750</td>\n",
       "      <td>0.227700</td>\n",
       "      <td>0.399027</td>\n",
       "      <td>0.845216</td>\n",
       "      <td>0.845116</td>\n",
       "      <td>0.846104</td>\n",
       "      <td>0.845216</td>\n",
       "    </tr>\n",
       "    <tr>\n",
       "      <td>800</td>\n",
       "      <td>0.236400</td>\n",
       "      <td>0.383718</td>\n",
       "      <td>0.857411</td>\n",
       "      <td>0.857361</td>\n",
       "      <td>0.857915</td>\n",
       "      <td>0.857411</td>\n",
       "    </tr>\n",
       "    <tr>\n",
       "      <td>850</td>\n",
       "      <td>0.274400</td>\n",
       "      <td>0.372437</td>\n",
       "      <td>0.861163</td>\n",
       "      <td>0.861163</td>\n",
       "      <td>0.861163</td>\n",
       "      <td>0.861163</td>\n",
       "    </tr>\n",
       "    <tr>\n",
       "      <td>900</td>\n",
       "      <td>0.277200</td>\n",
       "      <td>0.358828</td>\n",
       "      <td>0.863977</td>\n",
       "      <td>0.863951</td>\n",
       "      <td>0.864266</td>\n",
       "      <td>0.863977</td>\n",
       "    </tr>\n",
       "    <tr>\n",
       "      <td>950</td>\n",
       "      <td>0.257000</td>\n",
       "      <td>0.357554</td>\n",
       "      <td>0.860225</td>\n",
       "      <td>0.860224</td>\n",
       "      <td>0.860237</td>\n",
       "      <td>0.860225</td>\n",
       "    </tr>\n",
       "    <tr>\n",
       "      <td>1000</td>\n",
       "      <td>0.218400</td>\n",
       "      <td>0.367040</td>\n",
       "      <td>0.856473</td>\n",
       "      <td>0.856406</td>\n",
       "      <td>0.857138</td>\n",
       "      <td>0.856473</td>\n",
       "    </tr>\n",
       "    <tr>\n",
       "      <td>1050</td>\n",
       "      <td>0.238700</td>\n",
       "      <td>0.367243</td>\n",
       "      <td>0.857411</td>\n",
       "      <td>0.857350</td>\n",
       "      <td>0.858021</td>\n",
       "      <td>0.857411</td>\n",
       "    </tr>\n",
       "  </tbody>\n",
       "</table><p>"
      ],
      "text/plain": [
       "<IPython.core.display.HTML object>"
      ]
     },
     "metadata": {},
     "output_type": "display_data"
    },
    {
     "data": {
      "text/html": [
       "\n",
       "    <div>\n",
       "      \n",
       "      <progress value='17' max='17' style='width:300px; height:20px; vertical-align: middle;'></progress>\n",
       "      [17/17 00:09]\n",
       "    </div>\n",
       "    "
      ],
      "text/plain": [
       "<IPython.core.display.HTML object>"
      ]
     },
     "metadata": {},
     "output_type": "display_data"
    },
    {
     "data": {
      "text/html": [],
      "text/plain": [
       "<IPython.core.display.HTML object>"
      ]
     },
     "metadata": {},
     "output_type": "display_data"
    },
    {
     "data": {
      "text/html": [
       "<br>    <style><br>        .wandb-row {<br>            display: flex;<br>            flex-direction: row;<br>            flex-wrap: wrap;<br>            justify-content: flex-start;<br>            width: 100%;<br>        }<br>        .wandb-col {<br>            display: flex;<br>            flex-direction: column;<br>            flex-basis: 100%;<br>            flex: 1;<br>            padding: 10px;<br>        }<br>    </style><br><div class=\"wandb-row\"><div class=\"wandb-col\"><h3>Run history:</h3><br/><table class=\"wandb\"><tr><td>epoch</td><td>▁</td></tr><tr><td>eval/accuracy</td><td>▁▆▆▇▇▇████████████████</td></tr><tr><td>eval/f1</td><td>▁▆▇▇▇█████████████████</td></tr><tr><td>eval/loss</td><td>█▄▃▃▂▁▁▁▁▁▁▂▂▂▂▂▂▁▁▁▁▁</td></tr><tr><td>eval/precision</td><td>▁▄▄▅▆▆▇▇▇▇▇█▇▇▇███████</td></tr><tr><td>eval/recall</td><td>▁▆▆▇▇▇████████████████</td></tr><tr><td>eval/runtime</td><td>▄▁▁▂▁▁▂▃▂▂▃▃▃▆█▇▆▇▇▇▇▇</td></tr><tr><td>eval/samples_per_second</td><td>▅██▇██▇▆▇▇▆▆▆▃▁▂▃▂▂▂▂▂</td></tr><tr><td>eval/steps_per_second</td><td>▅██▇██▇▆▇▇▆▆▆▃▁▂▃▂▂▂▂▂</td></tr><tr><td>eval_accuracy</td><td>▁</td></tr><tr><td>eval_f1</td><td>▁</td></tr><tr><td>eval_loss</td><td>▁</td></tr><tr><td>eval_precision</td><td>▁</td></tr><tr><td>eval_recall</td><td>▁</td></tr><tr><td>eval_runtime</td><td>▁</td></tr><tr><td>eval_samples_per_second</td><td>▁</td></tr><tr><td>eval_steps_per_second</td><td>▁</td></tr><tr><td>train/epoch</td><td>▁▁▁▁▂▂▂▂▂▂▃▃▃▃▃▄▄▄▄▄▅▅▅▅▅▅▆▆▆▆▇▇▇▇▇█████</td></tr><tr><td>train/global_step</td><td>▁▁▁▁▂▂▂▂▂▃▃▃▃▃▃▄▄▄▄▄▅▅▅▅▅▆▆▆▆▇▇▇▇▇██████</td></tr><tr><td>train/grad_norm</td><td>▂▃▅▄▄▄▅▄▄▃▄▅▃▇▂▆█▄▃▁▅</td></tr><tr><td>train/learning_rate</td><td>▄██▇▇▇▆▆▅▅▅▄▄▄▃▃▂▂▂▁▁</td></tr><tr><td>train/loss</td><td>█▇▄▄▄▄▃▄▃▃▃▁▁▁▁▁▂▂▂▁▁</td></tr></table><br/></div><div class=\"wandb-col\"><h3>Run summary:</h3><br/><table class=\"wandb\"><tr><td>epoch</td><td>2</td></tr><tr><td>eval/accuracy</td><td>0.86398</td></tr><tr><td>eval/f1</td><td>0.86395</td></tr><tr><td>eval/loss</td><td>0.35883</td></tr><tr><td>eval/precision</td><td>0.86427</td></tr><tr><td>eval/recall</td><td>0.86398</td></tr><tr><td>eval/runtime</td><td>10.4578</td></tr><tr><td>eval/samples_per_second</td><td>101.933</td></tr><tr><td>eval/steps_per_second</td><td>1.626</td></tr><tr><td>eval_accuracy</td><td>0.86398</td></tr><tr><td>eval_f1</td><td>0.86395</td></tr><tr><td>eval_loss</td><td>0.35883</td></tr><tr><td>eval_precision</td><td>0.86427</td></tr><tr><td>eval_recall</td><td>0.86398</td></tr><tr><td>eval_runtime</td><td>10.4578</td></tr><tr><td>eval_samples_per_second</td><td>101.933</td></tr><tr><td>eval_steps_per_second</td><td>1.626</td></tr><tr><td>total_flos</td><td>2259893821071360.0</td></tr><tr><td>train/epoch</td><td>2</td></tr><tr><td>train/global_step</td><td>1068</td></tr><tr><td>train/grad_norm</td><td>9.44848</td></tr><tr><td>train/learning_rate</td><td>0.0</td></tr><tr><td>train/loss</td><td>0.2387</td></tr><tr><td>train_loss</td><td>0.34287</td></tr><tr><td>train_runtime</td><td>704.8978</td></tr><tr><td>train_samples_per_second</td><td>24.202</td></tr><tr><td>train_steps_per_second</td><td>1.515</td></tr></table><br/></div></div>"
      ],
      "text/plain": [
       "<IPython.core.display.HTML object>"
      ]
     },
     "metadata": {},
     "output_type": "display_data"
    },
    {
     "data": {
      "text/html": [
       " View run <strong style=\"color:#cdcd00\">distbert-clsfy-f28489f3</strong> at: <a href='https://wandb.ai/francesco-correnti-unifi/lab-3/runs/no8sfgej' target=\"_blank\">https://wandb.ai/francesco-correnti-unifi/lab-3/runs/no8sfgej</a><br> View project at: <a href='https://wandb.ai/francesco-correnti-unifi/lab-3' target=\"_blank\">https://wandb.ai/francesco-correnti-unifi/lab-3</a><br>Synced 5 W&B file(s), 0 media file(s), 0 artifact file(s) and 0 other file(s)"
      ],
      "text/plain": [
       "<IPython.core.display.HTML object>"
      ]
     },
     "metadata": {},
     "output_type": "display_data"
    },
    {
     "data": {
      "text/html": [
       "Find logs at: <code>.\\wandb\\run-20250528_095339-no8sfgej\\logs</code>"
      ],
      "text/plain": [
       "<IPython.core.display.HTML object>"
      ]
     },
     "metadata": {},
     "output_type": "display_data"
    }
   ],
   "source": [
    "from transformers import DataCollatorWithPadding, Trainer, TrainingArguments\n",
    "from sklearn.metrics import accuracy_score, f1_score, precision_score, recall_score\n",
    "import uuid\n",
    "\n",
    "data_collator = DataCollatorWithPadding(tokenizer=tokenizer)\n",
    "\n",
    "def compute_metrics(eval_pred):\n",
    "    predictions, labels = eval_pred\n",
    "    predictions = np.argmax(predictions, axis=1)\n",
    "    \n",
    "    return {\n",
    "        'accuracy': accuracy_score(labels, predictions),\n",
    "        'f1': f1_score(labels, predictions, average='weighted'),\n",
    "        'precision': precision_score(labels, predictions, average='weighted'),\n",
    "        'recall': recall_score(labels, predictions, average='weighted')\n",
    "    }\n",
    "\n",
    "run_id = str(uuid.uuid4())[:8]\n",
    "wandb.init(project=\"lab-3\", name=f\"distbert-clsfy-{run_id}\")\n",
    "\n",
    "training_args = TrainingArguments(\n",
    "    output_dir='./results',\n",
    "    num_train_epochs=2,  \n",
    "    per_device_train_batch_size=16,\n",
    "    per_device_eval_batch_size=64,\n",
    "    eval_strategy=\"steps\",\n",
    "    eval_steps=50,\n",
    "    save_strategy=\"steps\",\n",
    "    save_steps=50,\n",
    "    warmup_steps=100,\n",
    "    learning_rate=2e-5, \n",
    "    logging_dir='./logs',\n",
    "    logging_steps=50,\n",
    "    report_to=\"wandb\",\n",
    "    load_best_model_at_end=True,\n",
    "    metric_for_best_model=\"eval_accuracy\",\n",
    "    greater_is_better=True,\n",
    "    max_grad_norm=1.0,\n",
    "    dataloader_drop_last=False,\n",
    "    gradient_accumulation_steps=1,\n",
    "    seed=42,  \n",
    ")\n",
    "\n",
    "from transformers.trainer_callback import EarlyStoppingCallback\n",
    "early_stopping = EarlyStoppingCallback(\n",
    "    early_stopping_patience=50,\n",
    "    early_stopping_threshold=0.001\n",
    ")\n",
    "\n",
    "trainer = Trainer(\n",
    "    model=model_clsfy,\n",
    "    args=training_args,\n",
    "    train_dataset=tokenized_train,\n",
    "    eval_dataset=tokenized_val,\n",
    "    data_collator=data_collator,\n",
    "    compute_metrics=compute_metrics,\n",
    "    callbacks=[early_stopping], \n",
    ")\n",
    "\n",
    "trainer.train()\n",
    "results = trainer.evaluate()\n",
    "\n",
    "wandb.log(results)\n",
    "wandb.finish()"
   ]
  },
  {
   "cell_type": "markdown",
   "id": "fc8376de-8554-4a13-aac3-59257f3eb3fd",
   "metadata": {},
   "source": [
    "-----\n",
    "### Exercise 3: Choose at Least One\n"
   ]
  },
  {
   "cell_type": "markdown",
   "id": "9b55cf4d-e64b-47fc-b8d5-37288b72d90d",
   "metadata": {},
   "source": [
    "#### Exercise 3.1: Efficient Fine-tuning for Sentiment Analysis (easy)"
   ]
  },
  {
   "cell_type": "markdown",
   "id": "6f183856-1111-4fe9-81f1-691fe7c1b706",
   "metadata": {},
   "source": [
    "In Exercise 2 we fine-tuned the *entire* Distilbert model on Rotten Tomatoes. This is expensive, even for a small model. Find an *efficient* way to fine-tune Distilbert on the Rotten Tomatoes dataset (or some other dataset).\n",
    "\n",
    "**Hint**: You could check out the [HuggingFace PEFT library](https://huggingface.co/docs/peft/en/index) for some state-of-the-art approaches that should \"just work\". How else might you go about making fine-tuning more efficient without having to change your training pipeline from above?"
   ]
  },
  {
   "cell_type": "code",
   "execution_count": 11,
   "id": "6ea6bca5-9b36-424e-898c-52c0777eae5e",
   "metadata": {},
   "outputs": [],
   "source": [
    "# Your code here."
   ]
  },
  {
   "cell_type": "markdown",
   "id": "5eeca737-ee00-4d98-a3ae-f4d6eb3d264f",
   "metadata": {},
   "source": [
    "#### Exercise 3.2: Fine-tuning a CLIP Model (harder)\n",
    "\n",
    "Use a (small) CLIP model like [`openai/clip-vit-base-patch16`](https://huggingface.co/openai/clip-vit-base-patch16) and evaluate its zero-shot performance on a small image classification dataset like ImageNette or TinyImageNet. Fine-tune (using a parameter-efficient method!) the CLIP model to see how much improvement you can squeeze out of it.\n",
    "\n",
    "**Note**: There are several ways to adapt the CLIP model; you could fine-tune the image encoder, the text encoder, or both. Or, you could experiment with prompt learning.\n",
    "\n",
    "**Tip**: CLIP probably already works very well on ImageNet and ImageNet-like images. For extra fun, look for an image classification dataset with different image types (e.g. *sketches*)."
   ]
  },
  {
   "cell_type": "code",
   "execution_count": 12,
   "id": "00b59ec2-4fe6-44c6-ab0b-0069f486bbb5",
   "metadata": {},
   "outputs": [],
   "source": [
    "# Your code here."
   ]
  },
  {
   "cell_type": "markdown",
   "id": "fe42ed48-444d-47d4-bd8b-839a99e7996a",
   "metadata": {},
   "source": [
    "#### Exercise 3.3: Choose your Own Adventure"
   ]
  },
  {
   "cell_type": "markdown",
   "id": "196f9129-ef2e-45f7-9e8f-baa697ccd91e",
   "metadata": {},
   "source": [
    "There are a *ton* of interesting and fun models on the HuggingFace hub. Pick one that does something interesting and adapt it in some way to a new task. Or, combine two or more models into something more interesting or fun. The sky's the limit.\n",
    "\n",
    "**Note**: Reach out to me by email or on the Discord if you are unsure about anything."
   ]
  },
  {
   "cell_type": "code",
   "execution_count": null,
   "id": "c150bd36-6535-4724-a06d-a61632d3132e",
   "metadata": {},
   "outputs": [
    {
     "ename": "",
     "evalue": "",
     "output_type": "error",
     "traceback": [
      "\u001b[1;31mThe Kernel crashed while executing code in the current cell or a previous cell. \n",
      "\u001b[1;31mPlease review the code in the cell(s) to identify a possible cause of the failure. \n",
      "\u001b[1;31mClick <a href='https://aka.ms/vscodeJupyterKernelCrash'>here</a> for more info. \n",
      "\u001b[1;31mView Jupyter <a href='command:jupyter.viewOutput'>log</a> for further details."
     ]
    }
   ],
   "source": [
    "# code in Lab3-Transformers-Exercise-3.3.ipynb"
   ]
  }
 ],
 "metadata": {
  "kernelspec": {
   "display_name": "transformers",
   "language": "python",
   "name": "python3"
  },
  "language_info": {
   "codemirror_mode": {
    "name": "ipython",
    "version": 3
   },
   "file_extension": ".py",
   "mimetype": "text/x-python",
   "name": "python",
   "nbconvert_exporter": "python",
   "pygments_lexer": "ipython3",
   "version": "3.13.3"
  }
 },
 "nbformat": 4,
 "nbformat_minor": 5
}
